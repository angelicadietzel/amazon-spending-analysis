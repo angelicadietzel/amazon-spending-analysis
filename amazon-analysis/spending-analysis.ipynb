{
 "cells": [
  {
   "cell_type": "markdown",
   "metadata": {},
   "source": [
    "# Analyzing My Amazon Spending"
   ]
  },
  {
   "cell_type": "markdown",
   "metadata": {},
   "source": [
    "## Objective"
   ]
  },
  {
   "cell_type": "markdown",
   "metadata": {},
   "source": [
    "The goal for this project is to analyze and understand my spending habits on Amazon. \n",
    "\n",
    "Possible questions to be answered:\n",
    "\n",
    "- Figure out the total amount of money I've spent on Amazon, ever\n",
    "- Find my most, least expensive order and average order totals\n",
    "- Figure out how much I’ve paid in taxes, and my effective sales tax rate on Amazon\n",
    "- Visualize my spending habits "
   ]
  },
  {
   "cell_type": "markdown",
   "metadata": {},
   "source": [
    "## The Data"
   ]
  },
  {
   "cell_type": "markdown",
   "metadata": {},
   "source": [
    "Amazon allows you to download reports on orders you've made dating all the way back to 2006. To get the data, I used this [link](https://www.amazon.com/gp/b2b/reports?ref_=ya_d_l_order_reports&). For this analysis, I downloaded only the **Orders and Shipments** report. \n",
    "\n",
    "**Note**: for privacy purposes I deleted rows in the CSV that contained personal information."
   ]
  },
  {
   "cell_type": "markdown",
   "metadata": {},
   "source": [
    "## Open Data"
   ]
  },
  {
   "cell_type": "markdown",
   "metadata": {},
   "source": [
    "Let's start by opening the dataset and explore the data.\n",
    "\n"
   ]
  },
  {
   "cell_type": "code",
   "execution_count": 51,
   "metadata": {},
   "outputs": [
    {
     "data": {
      "text/html": [
       "<div>\n",
       "<style scoped>\n",
       "    .dataframe tbody tr th:only-of-type {\n",
       "        vertical-align: middle;\n",
       "    }\n",
       "\n",
       "    .dataframe tbody tr th {\n",
       "        vertical-align: top;\n",
       "    }\n",
       "\n",
       "    .dataframe thead th {\n",
       "        text-align: right;\n",
       "    }\n",
       "</style>\n",
       "<table border=\"1\" class=\"dataframe\">\n",
       "  <thead>\n",
       "    <tr style=\"text-align: right;\">\n",
       "      <th></th>\n",
       "      <th>Order Date</th>\n",
       "      <th>Order ID</th>\n",
       "      <th>Website</th>\n",
       "      <th>Shipment Date</th>\n",
       "      <th>Order Status</th>\n",
       "      <th>Carrier Name &amp; Tracking Number</th>\n",
       "      <th>Subtotal</th>\n",
       "      <th>Shipping Charge</th>\n",
       "      <th>Tax Before Promotions</th>\n",
       "      <th>Total Promotions</th>\n",
       "      <th>Tax Charged</th>\n",
       "      <th>Total Charged</th>\n",
       "    </tr>\n",
       "  </thead>\n",
       "  <tbody>\n",
       "    <tr>\n",
       "      <th>0</th>\n",
       "      <td>4/28/14</td>\n",
       "      <td>105-3308790-5933007</td>\n",
       "      <td>Amazon.com</td>\n",
       "      <td>4/29/14</td>\n",
       "      <td>Shipped</td>\n",
       "      <td>UPS(1Z602E8EYW01207925)</td>\n",
       "      <td>$13.05</td>\n",
       "      <td>$5.52</td>\n",
       "      <td>$0.00</td>\n",
       "      <td>$0.00</td>\n",
       "      <td>$0.00</td>\n",
       "      <td>$18.57</td>\n",
       "    </tr>\n",
       "    <tr>\n",
       "      <th>1</th>\n",
       "      <td>12/25/14</td>\n",
       "      <td>103-9751450-7316265</td>\n",
       "      <td>Amazon.com</td>\n",
       "      <td>12/27/14</td>\n",
       "      <td>Shipped</td>\n",
       "      <td>USPS(9341989877958102116176)</td>\n",
       "      <td>$20.48</td>\n",
       "      <td>$0.00</td>\n",
       "      <td>$1.80</td>\n",
       "      <td>$0.00</td>\n",
       "      <td>$1.80</td>\n",
       "      <td>$22.28</td>\n",
       "    </tr>\n",
       "    <tr>\n",
       "      <th>2</th>\n",
       "      <td>12/25/14</td>\n",
       "      <td>103-9184404-4242661</td>\n",
       "      <td>Amazon.com</td>\n",
       "      <td>12/26/14</td>\n",
       "      <td>Shipped</td>\n",
       "      <td>USPS(9361289877910104287082)</td>\n",
       "      <td>$24.77</td>\n",
       "      <td>$0.00</td>\n",
       "      <td>$2.18</td>\n",
       "      <td>$0.00</td>\n",
       "      <td>$2.18</td>\n",
       "      <td>$26.95</td>\n",
       "    </tr>\n",
       "    <tr>\n",
       "      <th>3</th>\n",
       "      <td>4/6/15</td>\n",
       "      <td>110-9009777-7021844</td>\n",
       "      <td>Amazon.com</td>\n",
       "      <td>4/7/15</td>\n",
       "      <td>Shipped</td>\n",
       "      <td>UPS(1ZF533440154284158)</td>\n",
       "      <td>$29.61</td>\n",
       "      <td>$19.98</td>\n",
       "      <td>$4.37</td>\n",
       "      <td>$0.00</td>\n",
       "      <td>$4.37</td>\n",
       "      <td>$53.96</td>\n",
       "    </tr>\n",
       "    <tr>\n",
       "      <th>4</th>\n",
       "      <td>10/29/15</td>\n",
       "      <td>114-1716231-6671449</td>\n",
       "      <td>Amazon.com</td>\n",
       "      <td>10/30/15</td>\n",
       "      <td>Shipped</td>\n",
       "      <td>USPS(9449010898313018682941)</td>\n",
       "      <td>$7.19</td>\n",
       "      <td>$3.99</td>\n",
       "      <td>$0.00</td>\n",
       "      <td>$0.00</td>\n",
       "      <td>$0.00</td>\n",
       "      <td>$11.18</td>\n",
       "    </tr>\n",
       "    <tr>\n",
       "      <th>...</th>\n",
       "      <td>...</td>\n",
       "      <td>...</td>\n",
       "      <td>...</td>\n",
       "      <td>...</td>\n",
       "      <td>...</td>\n",
       "      <td>...</td>\n",
       "      <td>...</td>\n",
       "      <td>...</td>\n",
       "      <td>...</td>\n",
       "      <td>...</td>\n",
       "      <td>...</td>\n",
       "      <td>...</td>\n",
       "    </tr>\n",
       "    <tr>\n",
       "      <th>69</th>\n",
       "      <td>1/10/21</td>\n",
       "      <td>112-0102920-1845813</td>\n",
       "      <td>Amazon.com</td>\n",
       "      <td>1/11/21</td>\n",
       "      <td>Shipped</td>\n",
       "      <td>USPS(9341989674090177236085)</td>\n",
       "      <td>$9.89</td>\n",
       "      <td>$0.00</td>\n",
       "      <td>$0.91</td>\n",
       "      <td>$0.00</td>\n",
       "      <td>$0.91</td>\n",
       "      <td>$10.80</td>\n",
       "    </tr>\n",
       "    <tr>\n",
       "      <th>70</th>\n",
       "      <td>1/10/21</td>\n",
       "      <td>112-0102920-1845813</td>\n",
       "      <td>Amazon.com</td>\n",
       "      <td>1/11/21</td>\n",
       "      <td>Shipped</td>\n",
       "      <td>AMZN_US(TBA131597643604)</td>\n",
       "      <td>$13.94</td>\n",
       "      <td>$0.00</td>\n",
       "      <td>$1.28</td>\n",
       "      <td>$0.00</td>\n",
       "      <td>$1.28</td>\n",
       "      <td>$15.22</td>\n",
       "    </tr>\n",
       "    <tr>\n",
       "      <th>71</th>\n",
       "      <td>1/16/21</td>\n",
       "      <td>112-3954640-8716215</td>\n",
       "      <td>Amazon.com</td>\n",
       "      <td>1/17/21</td>\n",
       "      <td>Shipped</td>\n",
       "      <td>AMZN_US(TBA138824580104)</td>\n",
       "      <td>$15.27</td>\n",
       "      <td>$0.00</td>\n",
       "      <td>$1.40</td>\n",
       "      <td>$0.00</td>\n",
       "      <td>$1.40</td>\n",
       "      <td>$16.67</td>\n",
       "    </tr>\n",
       "    <tr>\n",
       "      <th>72</th>\n",
       "      <td>1/16/21</td>\n",
       "      <td>112-3954640-8716215</td>\n",
       "      <td>Amazon.com</td>\n",
       "      <td>1/17/21</td>\n",
       "      <td>Shipped</td>\n",
       "      <td>AMZN_US(TBA138077335004)</td>\n",
       "      <td>$62.64</td>\n",
       "      <td>$0.00</td>\n",
       "      <td>$5.76</td>\n",
       "      <td>$0.00</td>\n",
       "      <td>$5.76</td>\n",
       "      <td>$68.40</td>\n",
       "    </tr>\n",
       "    <tr>\n",
       "      <th>73</th>\n",
       "      <td>1/20/21</td>\n",
       "      <td>113-5911609-9767419</td>\n",
       "      <td>Amazon.com</td>\n",
       "      <td>1/20/21</td>\n",
       "      <td>Shipped</td>\n",
       "      <td>AMZN_US(TBA142222269904)</td>\n",
       "      <td>$6.47</td>\n",
       "      <td>$0.00</td>\n",
       "      <td>$0.60</td>\n",
       "      <td>$0.00</td>\n",
       "      <td>$0.60</td>\n",
       "      <td>$7.07</td>\n",
       "    </tr>\n",
       "  </tbody>\n",
       "</table>\n",
       "<p>74 rows × 12 columns</p>\n",
       "</div>"
      ],
      "text/plain": [
       "   Order Date             Order ID     Website Shipment Date Order Status  \\\n",
       "0     4/28/14  105-3308790-5933007  Amazon.com       4/29/14      Shipped   \n",
       "1    12/25/14  103-9751450-7316265  Amazon.com      12/27/14      Shipped   \n",
       "2    12/25/14  103-9184404-4242661  Amazon.com      12/26/14      Shipped   \n",
       "3      4/6/15  110-9009777-7021844  Amazon.com        4/7/15      Shipped   \n",
       "4    10/29/15  114-1716231-6671449  Amazon.com      10/30/15      Shipped   \n",
       "..        ...                  ...         ...           ...          ...   \n",
       "69    1/10/21  112-0102920-1845813  Amazon.com       1/11/21      Shipped   \n",
       "70    1/10/21  112-0102920-1845813  Amazon.com       1/11/21      Shipped   \n",
       "71    1/16/21  112-3954640-8716215  Amazon.com       1/17/21      Shipped   \n",
       "72    1/16/21  112-3954640-8716215  Amazon.com       1/17/21      Shipped   \n",
       "73    1/20/21  113-5911609-9767419  Amazon.com       1/20/21      Shipped   \n",
       "\n",
       "   Carrier Name & Tracking Number Subtotal Shipping Charge  \\\n",
       "0         UPS(1Z602E8EYW01207925)   $13.05           $5.52   \n",
       "1    USPS(9341989877958102116176)   $20.48           $0.00   \n",
       "2    USPS(9361289877910104287082)   $24.77           $0.00   \n",
       "3         UPS(1ZF533440154284158)   $29.61          $19.98   \n",
       "4    USPS(9449010898313018682941)    $7.19           $3.99   \n",
       "..                            ...      ...             ...   \n",
       "69   USPS(9341989674090177236085)    $9.89           $0.00   \n",
       "70       AMZN_US(TBA131597643604)   $13.94           $0.00   \n",
       "71       AMZN_US(TBA138824580104)   $15.27           $0.00   \n",
       "72       AMZN_US(TBA138077335004)   $62.64           $0.00   \n",
       "73       AMZN_US(TBA142222269904)    $6.47           $0.00   \n",
       "\n",
       "   Tax Before Promotions Total Promotions Tax Charged Total Charged  \n",
       "0                  $0.00            $0.00       $0.00        $18.57  \n",
       "1                  $1.80            $0.00       $1.80        $22.28  \n",
       "2                  $2.18            $0.00       $2.18        $26.95  \n",
       "3                  $4.37            $0.00       $4.37        $53.96  \n",
       "4                  $0.00            $0.00       $0.00        $11.18  \n",
       "..                   ...              ...         ...           ...  \n",
       "69                 $0.91            $0.00       $0.91        $10.80  \n",
       "70                 $1.28            $0.00       $1.28        $15.22  \n",
       "71                 $1.40            $0.00       $1.40        $16.67  \n",
       "72                 $5.76            $0.00       $5.76        $68.40  \n",
       "73                 $0.60            $0.00       $0.60         $7.07  \n",
       "\n",
       "[74 rows x 12 columns]"
      ]
     },
     "execution_count": 51,
     "metadata": {},
     "output_type": "execute_result"
    }
   ],
   "source": [
    "import pandas as pd\n",
    "\n",
    "df = pd.read_csv('amazon_orders.csv')\n",
    "df"
   ]
  },
  {
   "cell_type": "markdown",
   "metadata": {},
   "source": [
    "I can see that the dimensions of my DataFrame are 73 row and 12 columns."
   ]
  },
  {
   "cell_type": "markdown",
   "metadata": {},
   "source": [
    "## Cleaning the Data"
   ]
  },
  {
   "cell_type": "markdown",
   "metadata": {},
   "source": [
    "A quick scan of the data shows that all of the prices in the dataset are stored as **strings**, rather than as numbers. \n",
    "\n",
    "I know I'll need the Total Charged, Tax Charged and Shipping Charge data for my analysis, so let's remove the dollar ($) sign and convert the data type to a **float** for these rows."
   ]
  },
  {
   "cell_type": "markdown",
   "metadata": {},
   "source": [
    "### Total Charged"
   ]
  },
  {
   "cell_type": "code",
   "execution_count": 52,
   "metadata": {},
   "outputs": [],
   "source": [
    "df[\"Total Charged\"] = df[\"Total Charged\"].str.replace('$','').astype(float)"
   ]
  },
  {
   "cell_type": "code",
   "execution_count": 53,
   "metadata": {},
   "outputs": [
    {
     "data": {
      "text/plain": [
       "0     18.57\n",
       "1     22.28\n",
       "2     26.95\n",
       "3     53.96\n",
       "4     11.18\n",
       "      ...  \n",
       "69    10.80\n",
       "70    15.22\n",
       "71    16.67\n",
       "72    68.40\n",
       "73     7.07\n",
       "Name: Total Charged, Length: 74, dtype: float64"
      ]
     },
     "execution_count": 53,
     "metadata": {},
     "output_type": "execute_result"
    }
   ],
   "source": [
    "df[\"Total Charged\"]"
   ]
  },
  {
   "cell_type": "markdown",
   "metadata": {},
   "source": [
    "### Tax Charged"
   ]
  },
  {
   "cell_type": "code",
   "execution_count": 54,
   "metadata": {},
   "outputs": [],
   "source": [
    "df[\"Tax Charged\"] = df[\"Tax Charged\"].str.replace('$','').astype(float)"
   ]
  },
  {
   "cell_type": "code",
   "execution_count": 55,
   "metadata": {},
   "outputs": [
    {
     "data": {
      "text/plain": [
       "0     0.00\n",
       "1     1.80\n",
       "2     2.18\n",
       "3     4.37\n",
       "4     0.00\n",
       "      ... \n",
       "69    0.91\n",
       "70    1.28\n",
       "71    1.40\n",
       "72    5.76\n",
       "73    0.60\n",
       "Name: Tax Charged, Length: 74, dtype: float64"
      ]
     },
     "execution_count": 55,
     "metadata": {},
     "output_type": "execute_result"
    }
   ],
   "source": [
    "df[\"Tax Charged\"]"
   ]
  },
  {
   "cell_type": "markdown",
   "metadata": {},
   "source": [
    "### Shipping Charge"
   ]
  },
  {
   "cell_type": "code",
   "execution_count": 56,
   "metadata": {},
   "outputs": [],
   "source": [
    "df[\"Shipping Charge\"] = df[\"Shipping Charge\"].str.replace('$','').astype(float)"
   ]
  },
  {
   "cell_type": "code",
   "execution_count": 58,
   "metadata": {},
   "outputs": [
    {
     "data": {
      "text/plain": [
       "0      5.52\n",
       "1      0.00\n",
       "2      0.00\n",
       "3     19.98\n",
       "4      3.99\n",
       "      ...  \n",
       "69     0.00\n",
       "70     0.00\n",
       "71     0.00\n",
       "72     0.00\n",
       "73     0.00\n",
       "Name: Shipping Charge, Length: 74, dtype: float64"
      ]
     },
     "execution_count": 58,
     "metadata": {},
     "output_type": "execute_result"
    }
   ],
   "source": [
    "df[\"Shipping Charge\"]"
   ]
  },
  {
   "cell_type": "markdown",
   "metadata": {},
   "source": [
    "## Dates "
   ]
  },
  {
   "cell_type": "markdown",
   "metadata": {},
   "source": [
    "To calculate my spending over time, we need to convert them to a **datetime** data type, so that the computer can recognize them as dates."
   ]
  },
  {
   "cell_type": "code",
   "execution_count": 74,
   "metadata": {},
   "outputs": [
    {
     "data": {
      "text/html": [
       "<div>\n",
       "<style scoped>\n",
       "    .dataframe tbody tr th:only-of-type {\n",
       "        vertical-align: middle;\n",
       "    }\n",
       "\n",
       "    .dataframe tbody tr th {\n",
       "        vertical-align: top;\n",
       "    }\n",
       "\n",
       "    .dataframe thead th {\n",
       "        text-align: right;\n",
       "    }\n",
       "</style>\n",
       "<table border=\"1\" class=\"dataframe\">\n",
       "  <thead>\n",
       "    <tr style=\"text-align: right;\">\n",
       "      <th></th>\n",
       "      <th>Order Date</th>\n",
       "      <th>Order ID</th>\n",
       "      <th>Website</th>\n",
       "      <th>Shipment Date</th>\n",
       "      <th>Order Status</th>\n",
       "      <th>Carrier Name &amp; Tracking Number</th>\n",
       "      <th>Subtotal</th>\n",
       "      <th>Shipping Charge</th>\n",
       "      <th>Tax Before Promotions</th>\n",
       "      <th>Total Promotions</th>\n",
       "      <th>Tax Charged</th>\n",
       "      <th>Total Charged</th>\n",
       "    </tr>\n",
       "  </thead>\n",
       "  <tbody>\n",
       "    <tr>\n",
       "      <th>0</th>\n",
       "      <td>2014-04-28</td>\n",
       "      <td>105-3308790-5933007</td>\n",
       "      <td>Amazon.com</td>\n",
       "      <td>4/29/14</td>\n",
       "      <td>Shipped</td>\n",
       "      <td>UPS(1Z602E8EYW01207925)</td>\n",
       "      <td>$13.05</td>\n",
       "      <td>5.52</td>\n",
       "      <td>$0.00</td>\n",
       "      <td>$0.00</td>\n",
       "      <td>0.00</td>\n",
       "      <td>18.57</td>\n",
       "    </tr>\n",
       "    <tr>\n",
       "      <th>1</th>\n",
       "      <td>2014-12-25</td>\n",
       "      <td>103-9751450-7316265</td>\n",
       "      <td>Amazon.com</td>\n",
       "      <td>12/27/14</td>\n",
       "      <td>Shipped</td>\n",
       "      <td>USPS(9341989877958102116176)</td>\n",
       "      <td>$20.48</td>\n",
       "      <td>0.00</td>\n",
       "      <td>$1.80</td>\n",
       "      <td>$0.00</td>\n",
       "      <td>1.80</td>\n",
       "      <td>22.28</td>\n",
       "    </tr>\n",
       "    <tr>\n",
       "      <th>2</th>\n",
       "      <td>2014-12-25</td>\n",
       "      <td>103-9184404-4242661</td>\n",
       "      <td>Amazon.com</td>\n",
       "      <td>12/26/14</td>\n",
       "      <td>Shipped</td>\n",
       "      <td>USPS(9361289877910104287082)</td>\n",
       "      <td>$24.77</td>\n",
       "      <td>0.00</td>\n",
       "      <td>$2.18</td>\n",
       "      <td>$0.00</td>\n",
       "      <td>2.18</td>\n",
       "      <td>26.95</td>\n",
       "    </tr>\n",
       "    <tr>\n",
       "      <th>3</th>\n",
       "      <td>2015-04-06</td>\n",
       "      <td>110-9009777-7021844</td>\n",
       "      <td>Amazon.com</td>\n",
       "      <td>4/7/15</td>\n",
       "      <td>Shipped</td>\n",
       "      <td>UPS(1ZF533440154284158)</td>\n",
       "      <td>$29.61</td>\n",
       "      <td>19.98</td>\n",
       "      <td>$4.37</td>\n",
       "      <td>$0.00</td>\n",
       "      <td>4.37</td>\n",
       "      <td>53.96</td>\n",
       "    </tr>\n",
       "    <tr>\n",
       "      <th>4</th>\n",
       "      <td>2015-10-29</td>\n",
       "      <td>114-1716231-6671449</td>\n",
       "      <td>Amazon.com</td>\n",
       "      <td>10/30/15</td>\n",
       "      <td>Shipped</td>\n",
       "      <td>USPS(9449010898313018682941)</td>\n",
       "      <td>$7.19</td>\n",
       "      <td>3.99</td>\n",
       "      <td>$0.00</td>\n",
       "      <td>$0.00</td>\n",
       "      <td>0.00</td>\n",
       "      <td>11.18</td>\n",
       "    </tr>\n",
       "  </tbody>\n",
       "</table>\n",
       "</div>"
      ],
      "text/plain": [
       "  Order Date             Order ID     Website Shipment Date Order Status  \\\n",
       "0 2014-04-28  105-3308790-5933007  Amazon.com       4/29/14      Shipped   \n",
       "1 2014-12-25  103-9751450-7316265  Amazon.com      12/27/14      Shipped   \n",
       "2 2014-12-25  103-9184404-4242661  Amazon.com      12/26/14      Shipped   \n",
       "3 2015-04-06  110-9009777-7021844  Amazon.com        4/7/15      Shipped   \n",
       "4 2015-10-29  114-1716231-6671449  Amazon.com      10/30/15      Shipped   \n",
       "\n",
       "  Carrier Name & Tracking Number Subtotal  Shipping Charge  \\\n",
       "0        UPS(1Z602E8EYW01207925)   $13.05             5.52   \n",
       "1   USPS(9341989877958102116176)   $20.48             0.00   \n",
       "2   USPS(9361289877910104287082)   $24.77             0.00   \n",
       "3        UPS(1ZF533440154284158)   $29.61            19.98   \n",
       "4   USPS(9449010898313018682941)    $7.19             3.99   \n",
       "\n",
       "  Tax Before Promotions Total Promotions  Tax Charged  Total Charged  \n",
       "0                 $0.00            $0.00         0.00          18.57  \n",
       "1                 $1.80            $0.00         1.80          22.28  \n",
       "2                 $2.18            $0.00         2.18          26.95  \n",
       "3                 $4.37            $0.00         4.37          53.96  \n",
       "4                 $0.00            $0.00         0.00          11.18  "
      ]
     },
     "execution_count": 74,
     "metadata": {},
     "output_type": "execute_result"
    }
   ],
   "source": [
    "df['Order Date'] = pd.to_datetime(df['Order Date'])\n",
    "df.head()"
   ]
  },
  {
   "cell_type": "markdown",
   "metadata": {},
   "source": [
    "From that one row, we can see that the date formatting has changed from 4/28/14 to 2014-04-28."
   ]
  },
  {
   "cell_type": "markdown",
   "metadata": {},
   "source": [
    "# Data Analysis"
   ]
  },
  {
   "cell_type": "markdown",
   "metadata": {},
   "source": [
    "Now I'll use some basic functions to quickly find the total amount I spent, along with the average amount per purchase, my largest and my smallest purchase. "
   ]
  },
  {
   "cell_type": "markdown",
   "metadata": {},
   "source": [
    "### Total Spend"
   ]
  },
  {
   "cell_type": "code",
   "execution_count": 69,
   "metadata": {},
   "outputs": [
    {
     "data": {
      "text/plain": [
       "4432.639999999999"
      ]
     },
     "execution_count": 69,
     "metadata": {},
     "output_type": "execute_result"
    }
   ],
   "source": [
    "df[\"Total Charged\"].sum()"
   ]
  },
  {
   "cell_type": "markdown",
   "metadata": {},
   "source": [
    "There it is: $4432.63. That’s how much money I have spent on Amazon. "
   ]
  },
  {
   "cell_type": "markdown",
   "metadata": {},
   "source": [
    "### Average Spend"
   ]
  },
  {
   "cell_type": "code",
   "execution_count": 62,
   "metadata": {},
   "outputs": [
    {
     "data": {
      "text/plain": [
       "59.90054054054053"
      ]
     },
     "execution_count": 62,
     "metadata": {},
     "output_type": "execute_result"
    }
   ],
   "source": [
    "df[\"Total Charged\"].mean()"
   ]
  },
  {
   "cell_type": "markdown",
   "metadata": {},
   "source": [
    "### Largest Purchase"
   ]
  },
  {
   "cell_type": "code",
   "execution_count": 63,
   "metadata": {},
   "outputs": [
    {
     "data": {
      "text/plain": [
       "528.53"
      ]
     },
     "execution_count": 63,
     "metadata": {},
     "output_type": "execute_result"
    }
   ],
   "source": [
    "df[\"Total Charged\"].max()"
   ]
  },
  {
   "cell_type": "markdown",
   "metadata": {},
   "source": [
    "### Smallest Purchase"
   ]
  },
  {
   "cell_type": "code",
   "execution_count": 65,
   "metadata": {},
   "outputs": [
    {
     "data": {
      "text/plain": [
       "0.0"
      ]
     },
     "execution_count": 65,
     "metadata": {},
     "output_type": "execute_result"
    }
   ],
   "source": [
    "df[\"Total Charged\"].min()"
   ]
  },
  {
   "cell_type": "markdown",
   "metadata": {},
   "source": [
    "My smallest purchase is 0.0, which happens when you start a free trial of Amazon Prime when ordering another item. "
   ]
  },
  {
   "cell_type": "markdown",
   "metadata": {},
   "source": [
    "## How Much Did I Pay in Sales Tax?\n"
   ]
  },
  {
   "cell_type": "code",
   "execution_count": 71,
   "metadata": {},
   "outputs": [
    {
     "data": {
      "text/plain": [
       "368.1"
      ]
     },
     "execution_count": 71,
     "metadata": {},
     "output_type": "execute_result"
    }
   ],
   "source": [
    "df[\"Tax Charged\"].sum()"
   ]
  },
  {
   "cell_type": "markdown",
   "metadata": {},
   "source": [
    "About \\\\$368.10 of the total money I spent on Amazon went towards taxes. \n",
    "\n",
    "The tax rate on different items varies. Let's figure out the overall tax rate:"
   ]
  },
  {
   "cell_type": "markdown",
   "metadata": {},
   "source": [
    "### Tax Rate "
   ]
  },
  {
   "cell_type": "code",
   "execution_count": 68,
   "metadata": {},
   "outputs": [
    {
     "data": {
      "text/plain": [
       "0.08304306237366448"
      ]
     },
     "execution_count": 68,
     "metadata": {},
     "output_type": "execute_result"
    }
   ],
   "source": [
    "df[\"Tax Charged\"].sum() / df[\"Total Charged\"].sum()"
   ]
  },
  {
   "cell_type": "markdown",
   "metadata": {},
   "source": [
    "During this time period, I paid an overall effective sales tax rate of about 8.3%."
   ]
  },
  {
   "cell_type": "markdown",
   "metadata": {},
   "source": [
    "## How Much Did I Pay For Shipping? "
   ]
  },
  {
   "cell_type": "markdown",
   "metadata": {},
   "source": [
    "I thought it would be interesting to see how much I spent on shipping. Amazon offers free shipping with an Amazon Prime membership, which I have subscribed to on and off throughout the years."
   ]
  },
  {
   "cell_type": "code",
   "execution_count": 72,
   "metadata": {},
   "outputs": [
    {
     "data": {
      "text/plain": [
       "77.93"
      ]
     },
     "execution_count": 72,
     "metadata": {},
     "output_type": "execute_result"
    }
   ],
   "source": [
    "df[\"Shipping Charge\"].sum()"
   ]
  },
  {
   "cell_type": "markdown",
   "metadata": {},
   "source": [
    "With a total of 4,432.63 in purchases on Amazon, I have spent a total of 77.93 on shipping. "
   ]
  },
  {
   "cell_type": "markdown",
   "metadata": {},
   "source": [
    "# Analyzing Amazon Spending Over Time"
   ]
  },
  {
   "cell_type": "markdown",
   "metadata": {},
   "source": [
    "Now, let's quickly display a chart with matplotlib."
   ]
  },
  {
   "cell_type": "code",
   "execution_count": 75,
   "metadata": {},
   "outputs": [],
   "source": [
    "%matplotlib inline"
   ]
  },
  {
   "cell_type": "code",
   "execution_count": 77,
   "metadata": {},
   "outputs": [
    {
     "data": {
      "text/plain": [
       "<matplotlib.axes._subplots.AxesSubplot at 0x11fda4310>"
      ]
     },
     "execution_count": 77,
     "metadata": {},
     "output_type": "execute_result"
    },
    {
     "data": {
      "image/png": "[encoded data removed]",
      "text/plain": [
       "<Figure size 1440x720 with 1 Axes>"
      ]
     },
     "metadata": {
      "needs_background": "light"
     },
     "output_type": "display_data"
    }
   ],
   "source": [
    "df.plot.bar(x='Order Date', y='Total Charged', rot=90, figsize=(20,10))"
   ]
  },
  {
   "cell_type": "markdown",
   "metadata": {},
   "source": [
    "Looks good, but I spot a problem: when multiple orders were placed on the same day, each order is getting a separate bar in the bar chart. \n",
    "\n",
    "That’s not really what I was trying to visualize. I want to see how much was spent each day. Each bar should represent a day, not a single order, so if there was more than one order on that day, the totals charged for those orders should be added together.\n",
    "\n",
    "Let's fix this."
   ]
  },
  {
   "cell_type": "markdown",
   "metadata": {},
   "source": [
    "## Grouping Our Data"
   ]
  },
  {
   "cell_type": "markdown",
   "metadata": {},
   "source": [
    "I'll break this down into two parts: \n",
    "\n",
    "1. Group our data by 'Order Date', so that all the orders that share the same date are counted in a single row\n",
    "\n",
    "2. Get the sum of the prices paid in 'Total Charged' column for each date and make it the value for 'Total Charged' in the relevant date’s row \n",
    "\n",
    "\n",
    "I'll assign the result of that, which will be a pandas Series, to a new variable. I'll call it **daily_orders**.\n",
    "\n",
    "Here’s what it looks like all together:"
   ]
  },
  {
   "cell_type": "code",
   "execution_count": 80,
   "metadata": {},
   "outputs": [
    {
     "data": {
      "text/plain": [
       "Order Date\n",
       "2014-04-28    18.57\n",
       "2014-12-25    49.23\n",
       "2015-04-06    53.96\n",
       "2015-10-29    54.35\n",
       "2016-02-25    13.93\n",
       "Name: Total Charged, dtype: float64"
      ]
     },
     "execution_count": 80,
     "metadata": {},
     "output_type": "execute_result"
    }
   ],
   "source": [
    "daily_orders = df.groupby('Order Date').sum()[\"Total Charged\"]\n",
    "daily_orders.head()"
   ]
  },
  {
   "cell_type": "code",
   "execution_count": 81,
   "metadata": {},
   "outputs": [
    {
     "data": {
      "text/plain": [
       "<matplotlib.axes._subplots.AxesSubplot at 0x11fe574d0>"
      ]
     },
     "execution_count": 81,
     "metadata": {},
     "output_type": "execute_result"
    },
    {
     "data": {
      "image/png": "[encoded data removed]",
      "text/plain": [
       "<Figure size 1440x720 with 1 Axes>"
      ]
     },
     "metadata": {
      "needs_background": "light"
     },
     "output_type": "display_data"
    }
   ],
   "source": [
    "daily_orders.plot.bar(figsize=(20,10))"
   ]
  },
  {
   "cell_type": "markdown",
   "metadata": {},
   "source": [
    "This chart shows us something my previous analysis hasn’t: although the biggest single order was just over \\\\$528, there was a single day in June where several orders totaled up to well over \\\\$700."
   ]
  },
  {
   "cell_type": "markdown",
   "metadata": {},
   "source": [
    "# Conclusion"
   ]
  },
  {
   "cell_type": "code",
   "execution_count": null,
   "metadata": {},
   "outputs": [],
   "source": []
  }
 ],
 "metadata": {
  "kernelspec": {
   "display_name": "Python 3",
   "language": "python",
   "name": "python3"
  },
  "language_info": {
   "codemirror_mode": {
    "name": "ipython",
    "version": 3
   },
   "file_extension": ".py",
   "mimetype": "text/x-python",
   "name": "python",
   "nbconvert_exporter": "python",
   "pygments_lexer": "ipython3",
   "version": "3.7.6"
  }
 },
 "nbformat": 4,
 "nbformat_minor": 4
}
